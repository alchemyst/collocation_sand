{
 "metadata": {
  "name": "",
  "signature": "sha256:d890ff0fa6d1c8e64d7bad7ab86a0c5a0d7736047998ea0257c92c9ef7e235da"
 },
 "nbformat": 3,
 "nbformat_minor": 0,
 "worksheets": [
  {
   "cells": [
    {
     "cell_type": "code",
     "collapsed": false,
     "input": [
      "import numpy"
     ],
     "language": "python",
     "metadata": {},
     "outputs": [],
     "prompt_number": 1081
    },
    {
     "cell_type": "code",
     "collapsed": false,
     "input": [
      "%matplotlib inline"
     ],
     "language": "python",
     "metadata": {},
     "outputs": [],
     "prompt_number": 1082
    },
    {
     "cell_type": "code",
     "collapsed": false,
     "input": [
      "import matplotlib.pyplot as plt"
     ],
     "language": "python",
     "metadata": {},
     "outputs": [],
     "prompt_number": 1083
    },
    {
     "cell_type": "markdown",
     "metadata": {},
     "source": [
      "We try to solve the following DEs:\n",
      "\n",
      "$$ \\alpha \\frac{\\mathrm{d}y}{\\mathrm{d}t} = -y + u $$\n",
      "$$ \\frac{\\mathrm{d}cost}{\\mathrm{d}t} = e^2$$\n",
      "\n",
      "We parametrise all the variables of time as $f(t) = at + b$"
     ]
    },
    {
     "cell_type": "code",
     "collapsed": false,
     "input": [
      "alpha = 2"
     ],
     "language": "python",
     "metadata": {},
     "outputs": [],
     "prompt_number": 1084
    },
    {
     "cell_type": "code",
     "collapsed": false,
     "input": [
      "variables = ['y', 'r', 'e', 'u', 'cost']\n",
      "coeffs = ['a', 'b']\n",
      "reference = [1, 1]\n",
      "Nvars = len(variables)\n",
      "initials = [0, 1, 0, 0, 0]\n",
      "Ntimes = 2\n",
      "tend = 2\n",
      "Nparams = 2 # per variable, per interval\n",
      "t0 = [0, 1]\n",
      "t1 = [1, 2]"
     ],
     "language": "python",
     "metadata": {},
     "outputs": [],
     "prompt_number": 1085
    },
    {
     "cell_type": "code",
     "collapsed": false,
     "input": [
      "Ndesign_vars = Nvars*Ntimes*Nparams"
     ],
     "language": "python",
     "metadata": {},
     "outputs": [],
     "prompt_number": 1086
    },
    {
     "cell_type": "code",
     "collapsed": false,
     "input": [
      "design_vars = [[[1,  0], [0, 1]], # y\n",
      "               [[0,  1], [0, 1]], # r\n",
      "               [[1, -1], [0, 0]], # e\n",
      "               [[1,  0], [0, 1]], # u\n",
      "               [[0,  1], [0, 1]], # cost\n",
      "               ]\n",
      "design_vars = numpy.array(design_vars).flatten()\n",
      "design_vars"
     ],
     "language": "python",
     "metadata": {},
     "outputs": [
      {
       "metadata": {},
       "output_type": "pyout",
       "prompt_number": 1087,
       "text": [
        "array([ 1,  0,  0,  1,  0,  1,  0,  1,  1, -1,  0,  0,  1,  0,  0,  1,  0,\n",
        "        1,  0,  1])"
       ]
      }
     ],
     "prompt_number": 1087
    },
    {
     "cell_type": "code",
     "collapsed": false,
     "input": [
      "def arrayform(design_vars):\n",
      "    return design_vars.reshape(Nvars, Ntimes, Nparams)"
     ],
     "language": "python",
     "metadata": {},
     "outputs": [],
     "prompt_number": 1088
    },
    {
     "cell_type": "code",
     "collapsed": false,
     "input": [
      "def basisfunction(coefficients, t):\n",
      "    \"\"\" Return basis function evaluated in normalised time (0 < t < 1)\"\"\"\n",
      "    a, b = coefficients\n",
      "    return a*t + b"
     ],
     "language": "python",
     "metadata": {},
     "outputs": [],
     "prompt_number": 1089
    },
    {
     "cell_type": "code",
     "collapsed": false,
     "input": [
      "import bisect"
     ],
     "language": "python",
     "metadata": {},
     "outputs": [],
     "prompt_number": 1090
    },
    {
     "cell_type": "code",
     "collapsed": false,
     "input": [
      "def varlookup(variablename):\n",
      "    return variables.index(variablename)"
     ],
     "language": "python",
     "metadata": {},
     "outputs": [],
     "prompt_number": 1091
    },
    {
     "cell_type": "code",
     "collapsed": false,
     "input": [
      "def coefflookup(coeffname):\n",
      "    return coeffs.index(coeffname)"
     ],
     "language": "python",
     "metadata": {},
     "outputs": [],
     "prompt_number": 1092
    },
    {
     "cell_type": "code",
     "collapsed": false,
     "input": [
      "def interped(variablename, design_vars, ts):\n",
      "    array_design_vars = arrayform(design_vars)\n",
      "    varindex = varlookup(variablename)\n",
      "    result = numpy.empty_like(ts)\n",
      "    for i, t in enumerate(ts):\n",
      "        tindex = bisect.bisect(t1, t)\n",
      "        tnorm = (t - t0[tindex])/(t1[tindex] - t0[tindex])\n",
      "        result[i] = basisfunction(array_design_vars[varindex, tindex, :], tnorm)\n",
      "    return result"
     ],
     "language": "python",
     "metadata": {},
     "outputs": [],
     "prompt_number": 1093
    },
    {
     "cell_type": "code",
     "collapsed": false,
     "input": [
      "def plotvars(design_vars):\n",
      "    for v in variables:\n",
      "        ts = numpy.linspace(0, tend-0.01)\n",
      "        plt.figure()\n",
      "        plt.plot(ts, interped(v, design_vars, ts))\n",
      "        plt.ylabel(v)\n",
      "plotvars(design_vars)"
     ],
     "language": "python",
     "metadata": {},
     "outputs": [
      {
       "metadata": {},
       "output_type": "display_data",
       "png": "[encoded data removed]",
       "text": [
        "<matplotlib.figure.Figure at 0x10f262650>"
       ]
      },
      {
       "metadata": {},
       "output_type": "display_data",
       "png": "[encoded data removed]",
       "text": [
        "<matplotlib.figure.Figure at 0x10ea73d50>"
       ]
      },
      {
       "metadata": {},
       "output_type": "display_data",
       "png": "[encoded data removed]",
       "text": [
        "<matplotlib.figure.Figure at 0x10ea85190>"
       ]
      },
      {
       "metadata": {},
       "output_type": "display_data",
       "png": "[encoded data removed]",
       "text": [
        "<matplotlib.figure.Figure at 0x10f259490>"
       ]
      },
      {
       "metadata": {},
       "output_type": "display_data",
       "png": "[encoded data removed]",
       "text": [
        "<matplotlib.figure.Figure at 0x10f45fa50>"
       ]
      }
     ],
     "prompt_number": 1094
    },
    {
     "cell_type": "code",
     "collapsed": false,
     "input": [
      "def cost(design_vars):\n",
      "    array_design_vars = arrayform(design_vars)\n",
      "    costindex = varlookup('cost')\n",
      "    return basisfunction(array_design_vars[costindex, -1, :], 1)"
     ],
     "language": "python",
     "metadata": {},
     "outputs": [],
     "prompt_number": 1095
    },
    {
     "cell_type": "code",
     "collapsed": false,
     "input": [
      "cost(design_vars)"
     ],
     "language": "python",
     "metadata": {},
     "outputs": [
      {
       "metadata": {},
       "output_type": "pyout",
       "prompt_number": 1096,
       "text": [
        "1"
       ]
      }
     ],
     "prompt_number": 1096
    },
    {
     "cell_type": "code",
     "collapsed": false,
     "input": [
      "array_design_vars = arrayform(design_vars)\n",
      "array_design_vars[1]"
     ],
     "language": "python",
     "metadata": {},
     "outputs": [
      {
       "metadata": {},
       "output_type": "pyout",
       "prompt_number": 1097,
       "text": [
        "array([[0, 1],\n",
        "       [0, 1]])"
       ]
      }
     ],
     "prompt_number": 1097
    },
    {
     "cell_type": "code",
     "collapsed": false,
     "input": [
      "def f_eqcons(design_vars):\n",
      "    array_design_vars = arrayform(design_vars)\n",
      "    result = []\n",
      "    for v, var in enumerate(variables):\n",
      "        # initial conditions\n",
      "        v0 = basisfunction(array_design_vars[v, 0, :], 0)\n",
      "        result.append(v0 - initials[v])\n",
      "        # continuity\n",
      "        for i in range(0, Ntimes-1):\n",
      "            vi = basisfunction(array_design_vars[v, i, :], 1)\n",
      "            vip1 = basisfunction(array_design_vars[v, i+1, :], 0)\n",
      "\n",
      "            \n",
      "            result.append(vi-vip1)\n",
      "            \n",
      "    for i in range(Ntimes):\n",
      "        # differential equation\n",
      "        # TODO: Evaluate basis function at 0\n",
      "        yi0 = array_design_vars[varlookup('y'), i, 0]\n",
      "        ui0 = array_design_vars[varlookup('u'), i, 0]\n",
      "        aiy = array_design_vars[varlookup('y'), i, coefflookup('a')]\n",
      "        \n",
      "        result.append(alpha*aiy - (- yi0 + ui0))\n",
      "        \n",
      "        # Cost function integration\n",
      "\n",
      "        aicost = array_design_vars[varlookup('cost'), i, coefflookup('a')]\n",
      "\n",
      "        # Compute average error over the domain\n",
      "        ei0 = 0.5*(basisfunction(array_design_vars[varlookup('e'), i, :],0) + basisfunction(array_design_vars[varlookup('e'), i, :],1))\n",
      "        \n",
      "        result.append(aicost - ei0**2)\n",
      "        \n",
      "        # error equation\n",
      "        ei1, yi1, ri1 = [basisfunction(array_design_vars[varlookup(v), i, :], 1) \n",
      "                         for v in ['e', 'y', 'r']]\n",
      "        result.append(ei1 - (yi1 - ri1))\n",
      "    \n",
      "        # reference signal\n",
      "        result.append(ri1 - reference[i])\n",
      "    \n",
      "    return result"
     ],
     "language": "python",
     "metadata": {},
     "outputs": [],
     "prompt_number": 1098
    },
    {
     "cell_type": "code",
     "collapsed": false,
     "input": [
      "f_eqcons(design_vars)"
     ],
     "language": "python",
     "metadata": {},
     "outputs": [
      {
       "metadata": {},
       "output_type": "pyout",
       "prompt_number": 1099,
       "text": [
        "[0, 0, 0, 0, -1, 0, 0, 0, 1, 0, 2, -0.25, 0, 0, 0, 0.0, 0, 0]"
       ]
      }
     ],
     "prompt_number": 1099
    },
    {
     "cell_type": "code",
     "collapsed": false,
     "input": [
      "def f_ieqcons(design_vars):\n",
      "    array_design_vars = arrayform(design_vars)\n",
      "    uindex = varlookup('u')\n",
      "    # lower bounds\n",
      "    result = []\n",
      "    for j in range(Ntimes):\n",
      "        ui = basisfunction(array_design_vars[uindex, j, :], 1)\n",
      "        result.append(ui)\n",
      "        result.append(1 - ui)\n",
      "    return numpy.array(result)"
     ],
     "language": "python",
     "metadata": {},
     "outputs": [],
     "prompt_number": 1100
    },
    {
     "cell_type": "code",
     "collapsed": false,
     "input": [
      "f_ieqcons(design_vars)"
     ],
     "language": "python",
     "metadata": {},
     "outputs": [
      {
       "metadata": {},
       "output_type": "pyout",
       "prompt_number": 1101,
       "text": [
        "array([1, 0, 1, 0])"
       ]
      }
     ],
     "prompt_number": 1101
    },
    {
     "cell_type": "code",
     "collapsed": false,
     "input": [
      "import scipy.optimize"
     ],
     "language": "python",
     "metadata": {},
     "outputs": [],
     "prompt_number": 1102
    },
    {
     "cell_type": "code",
     "collapsed": false,
     "input": [
      "opt_design_vars = scipy.optimize.fmin_slsqp(cost, design_vars, f_eqcons=f_eqcons, f_ieqcons=f_ieqcons)"
     ],
     "language": "python",
     "metadata": {},
     "outputs": [
      {
       "output_type": "stream",
       "stream": "stdout",
       "text": [
        "Optimization terminated successfully.    (Exit mode 0)\n",
        "            Current function value: 0.555555555556\n",
        "            Iterations: 3\n",
        "            Function evaluations: 66\n",
        "            Gradient evaluations: 3\n"
       ]
      }
     ],
     "prompt_number": 1103
    },
    {
     "cell_type": "code",
     "collapsed": false,
     "input": [
      "plotvars(opt_design_vars)"
     ],
     "language": "python",
     "metadata": {},
     "outputs": [
      {
       "metadata": {},
       "output_type": "display_data",
       "png": "[encoded data removed]",
       "text": [
        "<matplotlib.figure.Figure at 0x10e85a750>"
       ]
      },
      {
       "metadata": {},
       "output_type": "display_data",
       "png": "[encoded data removed]",
       "text": [
        "<matplotlib.figure.Figure at 0x10f23da10>"
       ]
      },
      {
       "metadata": {},
       "output_type": "display_data",
       "png": "[encoded data removed]",
       "text": [
        "<matplotlib.figure.Figure at 0x10f4ba890>"
       ]
      },
      {
       "metadata": {},
       "output_type": "display_data",
       "png": "[encoded data removed]",
       "text": [
        "<matplotlib.figure.Figure at 0x10f4a9710>"
       ]
      },
      {
       "metadata": {},
       "output_type": "display_data",
       "png": "[encoded data removed]",
       "text": [
        "<matplotlib.figure.Figure at 0x10f48af90>"
       ]
      }
     ],
     "prompt_number": 1104
    },
    {
     "cell_type": "code",
     "collapsed": false,
     "input": [
      "cost(opt_design_vars)"
     ],
     "language": "python",
     "metadata": {},
     "outputs": [
      {
       "metadata": {},
       "output_type": "pyout",
       "prompt_number": 1105,
       "text": [
        "0.55555555555555558"
       ]
      }
     ],
     "prompt_number": 1105
    },
    {
     "cell_type": "code",
     "collapsed": false,
     "input": [
      "f_eqcons(opt_design_vars)"
     ],
     "language": "python",
     "metadata": {},
     "outputs": [
      {
       "metadata": {},
       "output_type": "pyout",
       "prompt_number": 1106,
       "text": [
        "[0.0,\n",
        " 0.0,\n",
        " 0.0,\n",
        " 0.0,\n",
        " 0.0,\n",
        " 0.0,\n",
        " 0.0,\n",
        " 0.0,\n",
        " 0.0,\n",
        " 0.0,\n",
        " 1.1102230246251565e-16,\n",
        " 0.0,\n",
        " 1.1102230246251565e-16,\n",
        " 0.0,\n",
        " 1.085762338518356e-18,\n",
        " 0.0,\n",
        " 1.1102230246251565e-16,\n",
        " 0.0]"
       ]
      }
     ],
     "prompt_number": 1106
    },
    {
     "cell_type": "code",
     "collapsed": false,
     "input": [
      "f_ieqcons(opt_design_vars)"
     ],
     "language": "python",
     "metadata": {},
     "outputs": [
      {
       "metadata": {},
       "output_type": "pyout",
       "prompt_number": 1107,
       "text": [
        "array([  1.00000000e+00,   1.11022302e-16,   1.00000000e+00,\n",
        "         1.11022302e-16])"
       ]
      }
     ],
     "prompt_number": 1107
    }
   ],
   "metadata": {}
  }
 ]
}